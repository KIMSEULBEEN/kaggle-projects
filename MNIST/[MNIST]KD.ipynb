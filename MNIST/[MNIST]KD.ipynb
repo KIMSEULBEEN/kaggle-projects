{
 "cells": [
  {
   "cell_type": "markdown",
   "metadata": {
    "colab_type": "text",
    "id": "view-in-github"
   },
   "source": [
    "<a href=\"https://colab.research.google.com/github/Seonghoon-Yu/Paper_Review_and_Implementation_in_PyTorch/blob/master/Classification/Knowledge_distillation(2014).ipynb\" target=\"_parent\"><img src=\"https://colab.research.google.com/assets/colab-badge.svg\" alt=\"Open In Colab\"/></a>"
   ]
  },
  {
   "cell_type": "markdown",
   "metadata": {
    "id": "2caklRJdjTMP"
   },
   "source": []
  },
  {
   "cell_type": "code",
   "execution_count": 1,
   "metadata": {
    "id": "Wx--mbVYjSlZ"
   },
   "outputs": [],
   "source": [
    "import torch\n",
    "import torch.nn as nn\n",
    "import torch.nn.functional as F\n",
    "import torch.optim as optim\n",
    "from torchvision import datasets, transforms\n",
    "import torchvision.models as models\n",
    "from torch.utils.data import DataLoader\n",
    "import time\n",
    "import os\n",
    "import copy\n",
    "from torchvision.transforms.functional import to_pil_image\n",
    "import matplotlib.pyplot as plt\n",
    "%matplotlib inline\n",
    "\n",
    "device = torch.device('cuda' if torch.cuda.is_available() else 'cpu')"
   ]
  },
  {
   "cell_type": "markdown",
   "metadata": {
    "id": "0DXGx4nfjN_U"
   },
   "source": [
    "# DB"
   ]
  },
  {
   "cell_type": "code",
   "execution_count": 2,
   "metadata": {
    "id": "vAduL3yQjt4l"
   },
   "outputs": [],
   "source": [
    "# make directorch to save dataset\n",
    "def createFolder(directory):\n",
    "    try:\n",
    "        if not os.path.exists(directory):\n",
    "            os.makedirs(directory)\n",
    "    except OSerror:\n",
    "        print('Error')\n",
    "createFolder('./data')"
   ]
  },
  {
   "cell_type": "code",
   "execution_count": 3,
   "metadata": {
    "id": "wjqrC671lStN"
   },
   "outputs": [],
   "source": [
    "# define transformation\n",
    "ds_transform = transforms.Compose([\n",
    "                        transforms.ToTensor(),\n",
    "                        transforms.Normalize((0.1307,),(0.3081,))\n",
    "])"
   ]
  },
  {
   "cell_type": "code",
   "execution_count": 4,
   "metadata": {
    "colab": {
     "base_uri": "https://localhost:8080/"
    },
    "id": "NEm-eukOjDSK",
    "outputId": "f7760991-b91e-4952-ffb0-db141b1e1f63"
   },
   "outputs": [],
   "source": [
    "# load MNIST dataset\n",
    "train_ds = datasets.MNIST('content/data',train=True, download=True, transform=ds_transform)\n",
    "val_ds = datasets.MNIST('content/data',train=False, download=True, transform=ds_transform)"
   ]
  },
  {
   "cell_type": "code",
   "execution_count": 5,
   "metadata": {
    "id": "c5Y-pD0Vl4Kd"
   },
   "outputs": [],
   "source": [
    "# define data loader\n",
    "train_dl = DataLoader(train_ds, batch_size=64, shuffle=True)\n",
    "val_dl = DataLoader(val_ds, batch_size = 128, shuffle=True)"
   ]
  },
  {
   "cell_type": "code",
   "execution_count": 6,
   "metadata": {
    "colab": {
     "base_uri": "https://localhost:8080/",
     "height": 201
    },
    "id": "A9bK2lCnnYKt",
    "outputId": "c98fdeb8-3005-4c7a-a2e1-9bd8d520e17b"
   },
   "outputs": [
    {
     "name": "stdout",
     "output_type": "stream",
     "text": [
      "torch.Size([64, 1, 28, 28]) torch.Size([64])\n"
     ]
    },
    {
     "data": {
      "image/png": "[encoded data removed]",
      "text/plain": [
       "<Figure size 1080x1080 with 4 Axes>"
      ]
     },
     "metadata": {
      "needs_background": "light"
     },
     "output_type": "display_data"
    }
   ],
   "source": [
    "# check sample image\n",
    "for x, y in train_dl:\n",
    "    print(x.shape, y.shape)\n",
    "    break\n",
    "\n",
    "num = 4\n",
    "img = x[:num]\n",
    "\n",
    "plt.figure(figsize=(15,15))\n",
    "for i in range(num):\n",
    "    plt.subplot(1,num+1,i+1)\n",
    "    plt.imshow(to_pil_image(0.1307*img[i]+0.3081), cmap='gray')"
   ]
  },
  {
   "cell_type": "markdown",
   "metadata": {
    "id": "oWR_bzKKmY8j"
   },
   "source": [
    "# Define Teacher model"
   ]
  },
  {
   "cell_type": "code",
   "execution_count": 7,
   "metadata": {
    "id": "_xEi3sTYmX5J"
   },
   "outputs": [],
   "source": [
    "class Teacher(nn.Module):\n",
    "    def __init__(self):\n",
    "        super().__init__()\n",
    "        self.fc1 = nn.Linear(28*28, 1200)\n",
    "        self.bn1 = nn.BatchNorm1d(1200)\n",
    "        self.fc2 = nn.Linear(1200,1200)\n",
    "        self.bn2 = nn.BatchNorm1d(1200)\n",
    "        self.fc3 = nn.Linear(1200, 10)\n",
    "        \n",
    "        \n",
    "    \n",
    "    \n",
    "    def forward(self,x):\n",
    "        x = x.view(-1, 28*28)\n",
    "        x = F.relu(self.bn1(self.fc1(x)))\n",
    "        x = F.dropout(x,p=0.8)\n",
    "        x = F.relu(self.bn2(self.fc2(x)))\n",
    "        x = F.dropout(x,p=0.8)\n",
    "        x = self.fc3(x)\n",
    "        return x"
   ]
  },
  {
   "cell_type": "code",
   "execution_count": 8,
   "metadata": {
    "colab": {
     "base_uri": "https://localhost:8080/"
    },
    "id": "KXILHPDnm66x",
    "outputId": "052cf593-e948-4a9b-997d-ec7f561a2731"
   },
   "outputs": [
    {
     "name": "stdout",
     "output_type": "stream",
     "text": [
      "torch.Size([16, 10])\n"
     ]
    }
   ],
   "source": [
    "# check\n",
    "x = torch.randn(16,1,28,28).to(device)\n",
    "teacher = Teacher().to(device)\n",
    "output = teacher(x)\n",
    "print(output.shape)"
   ]
  },
  {
   "cell_type": "code",
   "execution_count": 9,
   "metadata": {
    "id": "Io1uJBXHrnav"
   },
   "outputs": [],
   "source": [
    "# weight initialization\n",
    "def initialize_weights(model):\n",
    "    classname = model.__class__.__name__\n",
    "    # fc layer\n",
    "    if classname.find('Linear') != -1:\n",
    "        nn.init.normal_(model.weight.data, 0.0, 0.02)\n",
    "        nn.init.constant_(model.bias.data, 0)\n",
    "    # batchnorm\n",
    "    elif classname.find('BatchNorm') != -1:\n",
    "        nn.init.normal_(model.weight.data, 1.0, 0.02)\n",
    "        nn.init.constant_(model.bias.data, 0)\n",
    "\n",
    "teacher.apply(initialize_weights);"
   ]
  },
  {
   "cell_type": "markdown",
   "metadata": {
    "id": "6ucbjhYVrCMv"
   },
   "source": [
    "# Train teacher model"
   ]
  },
  {
   "cell_type": "code",
   "execution_count": 10,
   "metadata": {
    "id": "x-jmAnKWnQOF"
   },
   "outputs": [],
   "source": [
    "# loss function\n",
    "loss_func = nn.CrossEntropyLoss()\n",
    "\n",
    "# optimizer\n",
    "opt = optim.Adam(teacher.parameters(),lr = 0.00001)\n",
    "\n",
    "# lr scheduler\n",
    "from torch.optim.lr_scheduler import ReduceLROnPlateau\n",
    "lr_scheduler = ReduceLROnPlateau(opt, mode='min', factor=0.1, patience=10)"
   ]
  },
  {
   "cell_type": "code",
   "execution_count": 11,
   "metadata": {
    "id": "ECzB08Z1rezq"
   },
   "outputs": [],
   "source": [
    "# get current lr\n",
    "def get_lr(opt):\n",
    "    for param_group in opt.param_groups:\n",
    "        return param_group['lr']\n",
    "\n",
    "\n",
    "# calculate the metric per mini-batch\n",
    "def metric_batch(output, target):\n",
    "    pred = output.argmax(1, keepdim=True)\n",
    "    corrects = pred.eq(target.view_as(pred)).sum().item()\n",
    "    return corrects\n",
    "\n",
    "\n",
    "# calculate the loss per mini-batch\n",
    "def loss_batch(loss_func, output, target, opt=None):\n",
    "    loss_b = loss_func(output, target)\n",
    "    metric_b = metric_batch(output, target)\n",
    "\n",
    "    if opt is not None:\n",
    "        opt.zero_grad()\n",
    "        loss_b.backward()\n",
    "        opt.step()\n",
    "    \n",
    "    return loss_b.item(), metric_b\n",
    "\n",
    "\n",
    "# calculate the loss per epochs\n",
    "def loss_epoch(model, loss_func, dataset_dl, sanity_check=False, opt=None):\n",
    "    running_loss = 0.0\n",
    "    running_metric = 0.0\n",
    "    len_data = len(dataset_dl.dataset)\n",
    "\n",
    "    for xb, yb in dataset_dl:\n",
    "        xb = xb.to(device)\n",
    "        yb = yb.to(device)\n",
    "        output = model(xb)\n",
    "\n",
    "        loss_b, metric_b = loss_batch(loss_func, output, yb, opt)\n",
    "\n",
    "        running_loss += loss_b\n",
    "        \n",
    "        if metric_b is not None:\n",
    "            running_metric += metric_b\n",
    "\n",
    "        if sanity_check is True:\n",
    "            break\n",
    "\n",
    "    loss = running_loss / len_data\n",
    "    metric = running_metric / len_data\n",
    "    return loss, metric\n",
    "\n",
    "\n",
    "# function to start training\n",
    "def train_val(model, params):\n",
    "    num_epochs=params['num_epochs']\n",
    "    loss_func=params['loss_func']\n",
    "    opt=params['optimizer']\n",
    "    train_dl=params['train_dl']\n",
    "    val_dl=params['val_dl']\n",
    "    sanity_check=params['sanity_check']\n",
    "    lr_scheduler=params['lr_scheduler']\n",
    "    path2weights=params['path2weights']\n",
    "\n",
    "    loss_history = {'train': [], 'val': []}\n",
    "    metric_history = {'train': [], 'val': []}\n",
    "\n",
    "    best_loss = float('inf')\n",
    "    best_model_wts = copy.deepcopy(model.state_dict())\n",
    "    start_time = time.time()\n",
    "\n",
    "    for epoch in range(num_epochs):\n",
    "        current_lr = get_lr(opt)\n",
    "        print('Epoch {}/{}, current lr= {}'.format(epoch, num_epochs-1, current_lr))\n",
    "\n",
    "        model.train()\n",
    "        train_loss, train_metric = loss_epoch(model, loss_func, train_dl, sanity_check, opt)\n",
    "        loss_history['train'].append(train_loss)\n",
    "        metric_history['train'].append(train_metric)\n",
    "\n",
    "        model.eval()\n",
    "        with torch.no_grad():\n",
    "            val_loss, val_metric = loss_epoch(model, loss_func, val_dl, sanity_check)\n",
    "        loss_history['val'].append(val_loss)\n",
    "        metric_history['val'].append(val_metric)\n",
    "\n",
    "        if val_loss < best_loss:\n",
    "            best_loss = val_loss\n",
    "            best_model_wts = copy.deepcopy(model.state_dict())\n",
    "            torch.save(model.state_dict(), path2weights)\n",
    "            print('Copied best model weights!')\n",
    "\n",
    "        lr_scheduler.step(val_loss)\n",
    "        if current_lr != get_lr(opt):\n",
    "            print('Loading best model weights!')\n",
    "            model.load_state_dict(best_model_wts)\n",
    "\n",
    "        print('train loss: %.6f, val loss: %.6f, accuracy: %.2f, time: %.4f min' %(train_loss, val_loss, 100*val_metric, (time.time()-start_time)/60))\n",
    "        print('-'*10)\n",
    "\n",
    "    model.load_state_dict(best_model_wts)\n",
    "    return model, loss_history, metric_history"
   ]
  },
  {
   "cell_type": "code",
   "execution_count": 12,
   "metadata": {
    "id": "SQ50CDSFtRl6"
   },
   "outputs": [],
   "source": [
    "# set hyper parameters\n",
    "# define the training parameters\n",
    "params_train = {\n",
    "    'num_epochs':30,\n",
    "    'optimizer':opt,\n",
    "    'loss_func':loss_func,\n",
    "    'train_dl':train_dl,\n",
    "    'val_dl':val_dl,\n",
    "    'sanity_check':False,\n",
    "    'lr_scheduler':lr_scheduler,\n",
    "    'path2weights':'content/models/teacher_weights.pt',\n",
    "}\n",
    "\n",
    "createFolder('content/models')"
   ]
  },
  {
   "cell_type": "code",
   "execution_count": 13,
   "metadata": {
    "colab": {
     "base_uri": "https://localhost:8080/"
    },
    "id": "4tW6h6rOtcjA",
    "outputId": "c2f38ab8-a546-40ce-aaa4-21d852d40600"
   },
   "outputs": [
    {
     "name": "stdout",
     "output_type": "stream",
     "text": [
      "Epoch 0/29, current lr= 1e-05\n",
      "Copied best model weights!\n",
      "train loss: 0.032862, val loss: 0.012342, accuracy: 48.17, time: 0.1430 min\n",
      "----------\n",
      "Epoch 1/29, current lr= 1e-05\n",
      "Copied best model weights!\n",
      "train loss: 0.020749, val loss: 0.008427, accuracy: 66.49, time: 0.2839 min\n",
      "----------\n",
      "Epoch 2/29, current lr= 1e-05\n",
      "Copied best model weights!\n",
      "train loss: 0.015377, val loss: 0.006638, accuracy: 72.75, time: 0.4254 min\n",
      "----------\n",
      "Epoch 3/29, current lr= 1e-05\n",
      "Copied best model weights!\n",
      "train loss: 0.012498, val loss: 0.005583, accuracy: 77.78, time: 0.5643 min\n",
      "----------\n",
      "Epoch 4/29, current lr= 1e-05\n",
      "Copied best model weights!\n",
      "train loss: 0.010864, val loss: 0.004735, accuracy: 81.30, time: 0.7051 min\n",
      "----------\n",
      "Epoch 5/29, current lr= 1e-05\n",
      "Copied best model weights!\n",
      "train loss: 0.009627, val loss: 0.004275, accuracy: 83.23, time: 0.8452 min\n",
      "----------\n",
      "Epoch 6/29, current lr= 1e-05\n",
      "Copied best model weights!\n",
      "train loss: 0.008718, val loss: 0.003798, accuracy: 85.40, time: 0.9872 min\n",
      "----------\n",
      "Epoch 7/29, current lr= 1e-05\n",
      "Copied best model weights!\n",
      "train loss: 0.008069, val loss: 0.003629, accuracy: 85.72, time: 1.1279 min\n",
      "----------\n",
      "Epoch 8/29, current lr= 1e-05\n",
      "Copied best model weights!\n",
      "train loss: 0.007619, val loss: 0.003404, accuracy: 86.70, time: 1.2695 min\n",
      "----------\n",
      "Epoch 9/29, current lr= 1e-05\n",
      "Copied best model weights!\n",
      "train loss: 0.007161, val loss: 0.003227, accuracy: 87.49, time: 1.4100 min\n",
      "----------\n",
      "Epoch 10/29, current lr= 1e-05\n",
      "Copied best model weights!\n",
      "train loss: 0.006820, val loss: 0.003095, accuracy: 87.86, time: 1.5509 min\n",
      "----------\n",
      "Epoch 11/29, current lr= 1e-05\n",
      "Copied best model weights!\n",
      "train loss: 0.006539, val loss: 0.003023, accuracy: 88.51, time: 1.6939 min\n",
      "----------\n",
      "Epoch 12/29, current lr= 1e-05\n",
      "Copied best model weights!\n",
      "train loss: 0.006416, val loss: 0.002793, accuracy: 89.49, time: 1.8367 min\n",
      "----------\n",
      "Epoch 13/29, current lr= 1e-05\n",
      "Copied best model weights!\n",
      "train loss: 0.006150, val loss: 0.002699, accuracy: 89.85, time: 1.9813 min\n",
      "----------\n",
      "Epoch 14/29, current lr= 1e-05\n",
      "Copied best model weights!\n",
      "train loss: 0.005945, val loss: 0.002698, accuracy: 89.64, time: 2.1254 min\n",
      "----------\n",
      "Epoch 15/29, current lr= 1e-05\n",
      "Copied best model weights!\n",
      "train loss: 0.005742, val loss: 0.002541, accuracy: 89.92, time: 2.2683 min\n",
      "----------\n",
      "Epoch 16/29, current lr= 1e-05\n",
      "Copied best model weights!\n",
      "train loss: 0.005583, val loss: 0.002539, accuracy: 90.71, time: 2.4113 min\n",
      "----------\n",
      "Epoch 17/29, current lr= 1e-05\n",
      "Copied best model weights!\n",
      "train loss: 0.005435, val loss: 0.002436, accuracy: 90.42, time: 2.5552 min\n",
      "----------\n",
      "Epoch 18/29, current lr= 1e-05\n",
      "Copied best model weights!\n",
      "train loss: 0.005318, val loss: 0.002356, accuracy: 90.65, time: 2.6994 min\n",
      "----------\n",
      "Epoch 19/29, current lr= 1e-05\n",
      "Copied best model weights!\n",
      "train loss: 0.005188, val loss: 0.002328, accuracy: 91.07, time: 2.8411 min\n",
      "----------\n",
      "Epoch 20/29, current lr= 1e-05\n",
      "Copied best model weights!\n",
      "train loss: 0.005095, val loss: 0.002319, accuracy: 90.98, time: 2.9837 min\n",
      "----------\n",
      "Epoch 21/29, current lr= 1e-05\n",
      "Copied best model weights!\n",
      "train loss: 0.004901, val loss: 0.002262, accuracy: 91.34, time: 3.1261 min\n",
      "----------\n",
      "Epoch 22/29, current lr= 1e-05\n",
      "Copied best model weights!\n",
      "train loss: 0.004822, val loss: 0.002184, accuracy: 91.57, time: 3.2673 min\n",
      "----------\n",
      "Epoch 23/29, current lr= 1e-05\n",
      "Copied best model weights!\n",
      "train loss: 0.004760, val loss: 0.002133, accuracy: 91.65, time: 3.4127 min\n",
      "----------\n",
      "Epoch 24/29, current lr= 1e-05\n",
      "Copied best model weights!\n",
      "train loss: 0.004670, val loss: 0.002103, accuracy: 91.82, time: 3.5559 min\n",
      "----------\n",
      "Epoch 25/29, current lr= 1e-05\n",
      "Copied best model weights!\n",
      "train loss: 0.004568, val loss: 0.002098, accuracy: 91.79, time: 3.6987 min\n",
      "----------\n",
      "Epoch 26/29, current lr= 1e-05\n",
      "Copied best model weights!\n",
      "train loss: 0.004432, val loss: 0.002036, accuracy: 92.41, time: 3.8412 min\n",
      "----------\n",
      "Epoch 27/29, current lr= 1e-05\n",
      "Copied best model weights!\n",
      "train loss: 0.004368, val loss: 0.002023, accuracy: 92.11, time: 3.9828 min\n",
      "----------\n",
      "Epoch 28/29, current lr= 1e-05\n",
      "Copied best model weights!\n",
      "train loss: 0.004324, val loss: 0.001931, accuracy: 92.23, time: 4.1251 min\n",
      "----------\n",
      "Epoch 29/29, current lr= 1e-05\n",
      "train loss: 0.004276, val loss: 0.001964, accuracy: 92.46, time: 4.2662 min\n",
      "----------\n"
     ]
    }
   ],
   "source": [
    "teacher, loss_hist, metric_hist = train_val(teacher, params_train)"
   ]
  },
  {
   "cell_type": "code",
   "execution_count": 14,
   "metadata": {
    "colab": {
     "base_uri": "https://localhost:8080/",
     "height": 573
    },
    "id": "OPE8VqmWtq6X",
    "outputId": "246a80c6-4db8-4a6d-a1ab-52087a37bb68"
   },
   "outputs": [
    {
     "data": {
      "image/png": "[encoded data removed]",
      "text/plain": [
       "<Figure size 432x288 with 1 Axes>"
      ]
     },
     "metadata": {
      "needs_background": "light"
     },
     "output_type": "display_data"
    },
    {
     "data": {
      "image/png": "[encoded data removed]",
      "text/plain": [
       "<Figure size 432x288 with 1 Axes>"
      ]
     },
     "metadata": {
      "needs_background": "light"
     },
     "output_type": "display_data"
    }
   ],
   "source": [
    "num_epochs = params_train['num_epochs']\n",
    "\n",
    "# Plot train-val loss\n",
    "plt.title('Train-Val Loss')\n",
    "plt.plot(range(1, num_epochs+1), loss_hist['train'], label='train')\n",
    "plt.plot(range(1, num_epochs+1), loss_hist['val'], label='val')\n",
    "plt.ylabel('Loss')\n",
    "plt.xlabel('Training Epochs')\n",
    "plt.legend()\n",
    "plt.show()\n",
    "\n",
    "# plot train-val accuracy\n",
    "plt.title('Train-Val Accuracy')\n",
    "plt.plot(range(1, num_epochs+1), metric_hist['train'], label='train')\n",
    "plt.plot(range(1, num_epochs+1), metric_hist['val'], label='val')\n",
    "plt.ylabel('Accuracy')\n",
    "plt.xlabel('Training Epochs')\n",
    "plt.legend()\n",
    "plt.show()"
   ]
  },
  {
   "cell_type": "markdown",
   "metadata": {
    "id": "lkfbfKDGuMx8"
   },
   "source": [
    "# define student model"
   ]
  },
  {
   "cell_type": "code",
   "execution_count": 15,
   "metadata": {
    "id": "9Ivu8fBluMNd"
   },
   "outputs": [],
   "source": [
    "class Student(nn.Module):\n",
    "    def __init__(self):\n",
    "        super().__init__()\n",
    "        self.fc1 = nn.Linear(28*28, 800)\n",
    "        self.bn1 = nn.BatchNorm1d(800)\n",
    "        self.fc2 = nn.Linear(800,800)\n",
    "        self.bn2 = nn.BatchNorm1d(800)\n",
    "        self.fc3 = nn.Linear(800,10)\n",
    "\n",
    "    def forward(self, x):\n",
    "        x = x.view(-1, 28*28)\n",
    "        x = F.relu(self.bn1(self.fc1(x)))\n",
    "        x = F.relu(self.bn2(self.fc2(x)))\n",
    "        x = self.fc3(x)\n",
    "        return x"
   ]
  },
  {
   "cell_type": "code",
   "execution_count": 16,
   "metadata": {
    "colab": {
     "base_uri": "https://localhost:8080/"
    },
    "id": "B6QyWLolv2s1",
    "outputId": "41fee9c8-419e-497e-b666-bcad2ef5759c"
   },
   "outputs": [
    {
     "name": "stdout",
     "output_type": "stream",
     "text": [
      "torch.Size([16, 10])\n"
     ]
    }
   ],
   "source": [
    "# check\n",
    "x = torch.randn(16,1,28,28).to(device)\n",
    "student = Student().to(device)\n",
    "output = student(x)\n",
    "print(output.shape)"
   ]
  },
  {
   "cell_type": "code",
   "execution_count": 17,
   "metadata": {
    "id": "cYRbDCfdwEcn"
   },
   "outputs": [],
   "source": [
    "# weight initialization\n",
    "def initialize_weights(model):\n",
    "    classname = model.__class__.__name__\n",
    "    # fc layer\n",
    "    if classname.find('Linear') != -1:\n",
    "        nn.init.normal_(model.weight.data, 0.0, 0.02)\n",
    "        nn.init.constant_(model.bias.data, 0)\n",
    "    # batchnorm\n",
    "    elif classname.find('BatchNorm') != -1:\n",
    "        nn.init.normal_(model.weight.data, 1.0, 0.02)\n",
    "        nn.init.constant_(model.bias.data, 0)\n",
    "\n",
    "student.apply(initialize_weights);"
   ]
  },
  {
   "cell_type": "markdown",
   "metadata": {
    "id": "xhvdAJwmwNwX"
   },
   "source": [
    "# Knowledge distillation"
   ]
  },
  {
   "cell_type": "code",
   "execution_count": 18,
   "metadata": {
    "id": "dQ6J3SZxwMft"
   },
   "outputs": [],
   "source": [
    "teacher = Teacher().to(device)\n",
    "# load weight\n",
    "teacher.load_state_dict(torch.load('content/models/teacher_weights.pt'))\n",
    "\n",
    "student = Student().to(device)"
   ]
  },
  {
   "cell_type": "code",
   "execution_count": 19,
   "metadata": {
    "id": "dSgdwvebxv5h"
   },
   "outputs": [],
   "source": [
    "# optimizer\n",
    "opt = optim.Adam(student.parameters(), lr = 0.00001)\n",
    "\n",
    "# distillation\n",
    "def distillation(y, labels, teacher_scores, T, alpha):\n",
    "    # distillation loss + classification loss\n",
    "    # y: student\n",
    "    # labels: hard label\n",
    "    # teacher_scores: soft label\n",
    "    return nn.KLDivLoss()(F.log_softmax(y/T), F.softmax(teacher_scores/T)) * (T*T * 2.0 + alpha) + F.cross_entropy(y,labels) * (1.-alpha)\n",
    "\n",
    "# val loss\n",
    "loss_func = nn.CrossEntropyLoss()"
   ]
  },
  {
   "cell_type": "code",
   "execution_count": 20,
   "metadata": {
    "id": "bNiOLKt5yVNG"
   },
   "outputs": [],
   "source": [
    "def distill_loss_batch(output, target, teacher_output, loss_fn=distillation, opt=opt):\n",
    "    loss_b = loss_fn(output, target, teacher_output, T=20.0, alpha=0.7)\n",
    "    metric_b = metric_batch(output, target)\n",
    "\n",
    "    if opt is not None:\n",
    "        opt.zero_grad()\n",
    "        loss_b.backward()\n",
    "        opt.step()\n",
    "\n",
    "    return loss_b.item(), metric_b"
   ]
  },
  {
   "cell_type": "code",
   "execution_count": null,
   "metadata": {
    "colab": {
     "base_uri": "https://localhost:8080/"
    },
    "id": "7egJMVrAJQXc",
    "outputId": "fc44e331-6d5e-422f-9fd1-7f7bba2cf203"
   },
   "outputs": [
    {
     "name": "stdout",
     "output_type": "stream",
     "text": [
      "Epoch 0/99, current lr= 0.001\n"
     ]
    },
    {
     "name": "stderr",
     "output_type": "stream",
     "text": [
      "/tmp/ipykernel_67393/1918305676.py:10: UserWarning: Implicit dimension choice for log_softmax has been deprecated. Change the call to include dim=X as an argument.\n",
      "  return nn.KLDivLoss()(F.log_softmax(y/T), F.softmax(teacher_scores/T)) * (T*T * 2.0 + alpha) + F.cross_entropy(y,labels) * (1.-alpha)\n",
      "/tmp/ipykernel_67393/1918305676.py:10: UserWarning: Implicit dimension choice for softmax has been deprecated. Change the call to include dim=X as an argument.\n",
      "  return nn.KLDivLoss()(F.log_softmax(y/T), F.softmax(teacher_scores/T)) * (T*T * 2.0 + alpha) + F.cross_entropy(y,labels) * (1.-alpha)\n",
      "/home/inbody/miniconda3/envs/Kaggle/lib/python3.8/site-packages/torch/nn/functional.py:2904: UserWarning: reduction: 'mean' divides the total loss by both the batch size and the support size.'batchmean' divides only by the batch size, and aligns with the KL div math definition.'mean' will be changed to behave the same as 'batchmean' in the next major release.\n",
      "  warnings.warn(\n"
     ]
    },
    {
     "name": "stdout",
     "output_type": "stream",
     "text": [
      "train loss: 0.004721, val loss: 0.000953, accuracy: 96.42, time: 0.1506 min\n",
      "----------\n",
      "Epoch 1/99, current lr= 0.001\n",
      "train loss: 0.004276, val loss: 0.000877, accuracy: 96.77, time: 0.3028 min\n",
      "----------\n",
      "Epoch 2/99, current lr= 0.001\n",
      "train loss: 0.004199, val loss: 0.000828, accuracy: 97.12, time: 0.4561 min\n",
      "----------\n",
      "Epoch 3/99, current lr= 0.001\n",
      "train loss: 0.004127, val loss: 0.000814, accuracy: 97.21, time: 0.6090 min\n",
      "----------\n",
      "Epoch 4/99, current lr= 0.001\n",
      "train loss: 0.004107, val loss: 0.000759, accuracy: 97.47, time: 0.7604 min\n",
      "----------\n",
      "Epoch 5/99, current lr= 0.001\n",
      "train loss: 0.004072, val loss: 0.000748, accuracy: 97.39, time: 0.9086 min\n",
      "----------\n",
      "Epoch 6/99, current lr= 0.001\n",
      "train loss: 0.004016, val loss: 0.000747, accuracy: 97.49, time: 1.0564 min\n",
      "----------\n",
      "Epoch 7/99, current lr= 0.001\n",
      "train loss: 0.004028, val loss: 0.000704, accuracy: 97.67, time: 1.2011 min\n",
      "----------\n",
      "Epoch 8/99, current lr= 0.001\n",
      "train loss: 0.004001, val loss: 0.000727, accuracy: 97.71, time: 1.3479 min\n",
      "----------\n",
      "Epoch 9/99, current lr= 0.001\n",
      "train loss: 0.004002, val loss: 0.000711, accuracy: 97.60, time: 1.4970 min\n",
      "----------\n",
      "Epoch 10/99, current lr= 0.001\n",
      "train loss: 0.003954, val loss: 0.000677, accuracy: 97.73, time: 1.6467 min\n",
      "----------\n",
      "Epoch 11/99, current lr= 0.001\n",
      "train loss: 0.003949, val loss: 0.000671, accuracy: 97.70, time: 1.7944 min\n",
      "----------\n",
      "Epoch 12/99, current lr= 0.001\n",
      "train loss: 0.003947, val loss: 0.000672, accuracy: 97.81, time: 1.9424 min\n",
      "----------\n",
      "Epoch 13/99, current lr= 0.001\n",
      "train loss: 0.003928, val loss: 0.000688, accuracy: 97.69, time: 2.0912 min\n",
      "----------\n",
      "Epoch 14/99, current lr= 0.001\n",
      "train loss: 0.003926, val loss: 0.000679, accuracy: 97.73, time: 2.2397 min\n",
      "----------\n",
      "Epoch 15/99, current lr= 0.001\n",
      "train loss: 0.003913, val loss: 0.000664, accuracy: 97.70, time: 2.3867 min\n",
      "----------\n",
      "Epoch 16/99, current lr= 0.001\n",
      "train loss: 0.003906, val loss: 0.000660, accuracy: 97.77, time: 2.5363 min\n",
      "----------\n",
      "Epoch 17/99, current lr= 0.001\n",
      "train loss: 0.003890, val loss: 0.000674, accuracy: 97.77, time: 2.6825 min\n",
      "----------\n",
      "Epoch 18/99, current lr= 0.001\n",
      "train loss: 0.003894, val loss: 0.000642, accuracy: 97.94, time: 2.8300 min\n",
      "----------\n",
      "Epoch 19/99, current lr= 0.001\n",
      "train loss: 0.003879, val loss: 0.000654, accuracy: 97.84, time: 2.9786 min\n",
      "----------\n",
      "Epoch 20/99, current lr= 0.001\n",
      "train loss: 0.003847, val loss: 0.000638, accuracy: 97.87, time: 3.1260 min\n",
      "----------\n",
      "Epoch 21/99, current lr= 0.001\n",
      "train loss: 0.003859, val loss: 0.000637, accuracy: 97.82, time: 3.2762 min\n",
      "----------\n",
      "Epoch 22/99, current lr= 0.001\n",
      "train loss: 0.003845, val loss: 0.000666, accuracy: 97.93, time: 3.4256 min\n",
      "----------\n",
      "Epoch 23/99, current lr= 0.001\n",
      "train loss: 0.003845, val loss: 0.000640, accuracy: 97.89, time: 3.5751 min\n",
      "----------\n",
      "Epoch 24/99, current lr= 0.001\n",
      "train loss: 0.003828, val loss: 0.000639, accuracy: 97.89, time: 3.7253 min\n",
      "----------\n",
      "Epoch 25/99, current lr= 0.001\n",
      "train loss: 0.003827, val loss: 0.000629, accuracy: 98.02, time: 3.8753 min\n",
      "----------\n",
      "Epoch 26/99, current lr= 0.001\n",
      "train loss: 0.003859, val loss: 0.000636, accuracy: 97.96, time: 4.0258 min\n",
      "----------\n",
      "Epoch 27/99, current lr= 0.001\n",
      "train loss: 0.003811, val loss: 0.000629, accuracy: 97.89, time: 4.1777 min\n",
      "----------\n",
      "Epoch 28/99, current lr= 0.001\n",
      "train loss: 0.003831, val loss: 0.000639, accuracy: 97.99, time: 4.3267 min\n",
      "----------\n",
      "Epoch 29/99, current lr= 0.001\n",
      "train loss: 0.003819, val loss: 0.000648, accuracy: 97.98, time: 4.4740 min\n",
      "----------\n",
      "Epoch 30/99, current lr= 0.001\n",
      "train loss: 0.003805, val loss: 0.000626, accuracy: 98.01, time: 4.6225 min\n",
      "----------\n",
      "Epoch 31/99, current lr= 0.001\n",
      "train loss: 0.003821, val loss: 0.000648, accuracy: 97.93, time: 4.7704 min\n",
      "----------\n",
      "Epoch 32/99, current lr= 0.001\n",
      "train loss: 0.003804, val loss: 0.000632, accuracy: 97.96, time: 4.9196 min\n",
      "----------\n",
      "Epoch 33/99, current lr= 0.001\n",
      "train loss: 0.003825, val loss: 0.000618, accuracy: 97.91, time: 5.0681 min\n",
      "----------\n",
      "Epoch 34/99, current lr= 0.001\n",
      "train loss: 0.003793, val loss: 0.000617, accuracy: 97.96, time: 5.2155 min\n",
      "----------\n",
      "Epoch 35/99, current lr= 0.001\n",
      "train loss: 0.003796, val loss: 0.000631, accuracy: 98.04, time: 5.3611 min\n",
      "----------\n",
      "Epoch 36/99, current lr= 0.001\n",
      "train loss: 0.003777, val loss: 0.000621, accuracy: 97.97, time: 5.5070 min\n",
      "----------\n",
      "Epoch 37/99, current lr= 0.001\n",
      "train loss: 0.003776, val loss: 0.000633, accuracy: 97.93, time: 5.6567 min\n",
      "----------\n",
      "Epoch 38/99, current lr= 0.001\n",
      "train loss: 0.003768, val loss: 0.000622, accuracy: 97.94, time: 5.8020 min\n",
      "----------\n",
      "Epoch 39/99, current lr= 0.001\n",
      "train loss: 0.003789, val loss: 0.000621, accuracy: 97.97, time: 5.9484 min\n",
      "----------\n",
      "Epoch 40/99, current lr= 0.001\n",
      "train loss: 0.003775, val loss: 0.000630, accuracy: 97.86, time: 6.0953 min\n",
      "----------\n",
      "Epoch 41/99, current lr= 0.001\n",
      "train loss: 0.003784, val loss: 0.000630, accuracy: 98.05, time: 6.2423 min\n",
      "----------\n",
      "Epoch 42/99, current lr= 0.001\n",
      "train loss: 0.003770, val loss: 0.000606, accuracy: 98.00, time: 6.3893 min\n",
      "----------\n",
      "Epoch 43/99, current lr= 0.001\n",
      "train loss: 0.003785, val loss: 0.000613, accuracy: 98.04, time: 6.5410 min\n",
      "----------\n",
      "Epoch 44/99, current lr= 0.001\n",
      "train loss: 0.003770, val loss: 0.000620, accuracy: 97.96, time: 6.6907 min\n",
      "----------\n",
      "Epoch 45/99, current lr= 0.001\n",
      "train loss: 0.003784, val loss: 0.000630, accuracy: 97.92, time: 6.8379 min\n",
      "----------\n",
      "Epoch 46/99, current lr= 0.001\n",
      "train loss: 0.003769, val loss: 0.000611, accuracy: 98.09, time: 6.9858 min\n",
      "----------\n",
      "Epoch 47/99, current lr= 0.001\n",
      "train loss: 0.003769, val loss: 0.000629, accuracy: 97.99, time: 7.1314 min\n",
      "----------\n",
      "Epoch 48/99, current lr= 0.001\n",
      "train loss: 0.003753, val loss: 0.000631, accuracy: 97.96, time: 7.2771 min\n",
      "----------\n",
      "Epoch 49/99, current lr= 0.001\n",
      "train loss: 0.003785, val loss: 0.000611, accuracy: 98.02, time: 7.4229 min\n",
      "----------\n",
      "Epoch 50/99, current lr= 0.001\n",
      "train loss: 0.003768, val loss: 0.000640, accuracy: 97.90, time: 7.5711 min\n",
      "----------\n",
      "Epoch 51/99, current lr= 0.001\n",
      "train loss: 0.003754, val loss: 0.000615, accuracy: 98.00, time: 7.7249 min\n",
      "----------\n",
      "Epoch 52/99, current lr= 0.001\n",
      "train loss: 0.003771, val loss: 0.000619, accuracy: 98.04, time: 7.8783 min\n",
      "----------\n",
      "Epoch 53/99, current lr= 0.001\n",
      "train loss: 0.003761, val loss: 0.000624, accuracy: 98.05, time: 8.0270 min\n",
      "----------\n",
      "Epoch 54/99, current lr= 0.001\n",
      "train loss: 0.003753, val loss: 0.000615, accuracy: 97.99, time: 8.1741 min\n",
      "----------\n",
      "Epoch 55/99, current lr= 0.001\n",
      "train loss: 0.003759, val loss: 0.000622, accuracy: 97.95, time: 8.3225 min\n",
      "----------\n",
      "Epoch 56/99, current lr= 0.001\n",
      "train loss: 0.003754, val loss: 0.000615, accuracy: 97.97, time: 8.4706 min\n",
      "----------\n",
      "Epoch 57/99, current lr= 0.001\n",
      "train loss: 0.003750, val loss: 0.000629, accuracy: 98.03, time: 8.6162 min\n",
      "----------\n",
      "Epoch 58/99, current lr= 0.001\n",
      "train loss: 0.003746, val loss: 0.000626, accuracy: 97.96, time: 8.7653 min\n",
      "----------\n",
      "Epoch 59/99, current lr= 0.001\n",
      "train loss: 0.003741, val loss: 0.000622, accuracy: 98.04, time: 8.9134 min\n",
      "----------\n",
      "Epoch 60/99, current lr= 0.001\n",
      "train loss: 0.003740, val loss: 0.000622, accuracy: 98.02, time: 9.0622 min\n",
      "----------\n",
      "Epoch 61/99, current lr= 0.001\n",
      "train loss: 0.003751, val loss: 0.000609, accuracy: 97.98, time: 9.2098 min\n",
      "----------\n",
      "Epoch 62/99, current lr= 0.001\n",
      "train loss: 0.003727, val loss: 0.000616, accuracy: 98.03, time: 9.3579 min\n",
      "----------\n",
      "Epoch 63/99, current lr= 0.001\n",
      "train loss: 0.003740, val loss: 0.000606, accuracy: 98.04, time: 9.5113 min\n",
      "----------\n",
      "Epoch 64/99, current lr= 0.001\n",
      "train loss: 0.003747, val loss: 0.000637, accuracy: 97.88, time: 9.6589 min\n",
      "----------\n",
      "Epoch 65/99, current lr= 0.001\n",
      "train loss: 0.003741, val loss: 0.000619, accuracy: 98.02, time: 9.8090 min\n",
      "----------\n",
      "Epoch 66/99, current lr= 0.001\n",
      "train loss: 0.003740, val loss: 0.000622, accuracy: 97.92, time: 9.9572 min\n",
      "----------\n",
      "Epoch 67/99, current lr= 0.001\n",
      "train loss: 0.003738, val loss: 0.000606, accuracy: 98.07, time: 10.1071 min\n",
      "----------\n",
      "Epoch 68/99, current lr= 0.001\n",
      "train loss: 0.003731, val loss: 0.000637, accuracy: 98.00, time: 10.2546 min\n",
      "----------\n",
      "Epoch 69/99, current lr= 0.001\n",
      "train loss: 0.003734, val loss: 0.000637, accuracy: 97.97, time: 10.4015 min\n",
      "----------\n",
      "Epoch 70/99, current lr= 0.001\n"
     ]
    },
    {
     "name": "stdout",
     "output_type": "stream",
     "text": [
      "train loss: 0.003739, val loss: 0.000633, accuracy: 97.94, time: 10.5487 min\n",
      "----------\n",
      "Epoch 71/99, current lr= 0.001\n",
      "train loss: 0.003737, val loss: 0.000647, accuracy: 97.94, time: 10.7016 min\n",
      "----------\n",
      "Epoch 72/99, current lr= 0.001\n",
      "train loss: 0.003747, val loss: 0.000624, accuracy: 98.01, time: 10.8512 min\n",
      "----------\n",
      "Epoch 73/99, current lr= 0.001\n",
      "train loss: 0.003746, val loss: 0.000642, accuracy: 98.09, time: 11.0048 min\n",
      "----------\n",
      "Epoch 74/99, current lr= 0.001\n",
      "train loss: 0.003735, val loss: 0.000607, accuracy: 98.09, time: 11.1528 min\n",
      "----------\n",
      "Epoch 75/99, current lr= 0.001\n",
      "train loss: 0.003713, val loss: 0.000627, accuracy: 98.02, time: 11.3023 min\n",
      "----------\n",
      "Epoch 76/99, current lr= 0.001\n",
      "train loss: 0.003712, val loss: 0.000631, accuracy: 98.10, time: 11.4537 min\n",
      "----------\n",
      "Epoch 77/99, current lr= 0.001\n",
      "train loss: 0.003726, val loss: 0.000630, accuracy: 97.96, time: 11.6043 min\n",
      "----------\n",
      "Epoch 78/99, current lr= 0.001\n"
     ]
    }
   ],
   "source": [
    "num_epochs= 100\n",
    "\n",
    "loss_history = {'train': [], 'val': []}\n",
    "metric_history = {'train': [], 'val': []}\n",
    "\n",
    "best_loss = float('inf')\n",
    "start_time = time.time()\n",
    "\n",
    "for epoch in range(num_epochs):\n",
    "    current_lr = get_lr(opt)\n",
    "    print('Epoch {}/{}, current lr= {}'.format(epoch, num_epochs-1, current_lr))\n",
    "\n",
    "    # train\n",
    "    student.train()\n",
    "\n",
    "    running_loss = 0.0\n",
    "    running_metric = 0.0\n",
    "    len_data = len(train_dl.dataset)\n",
    "\n",
    "    for xb, yb in train_dl:\n",
    "        xb = xb.to(device)\n",
    "        yb = yb.to(device)\n",
    "\n",
    "        output = student(xb)\n",
    "        teacher_output = teacher(xb).detach()\n",
    "        loss_b, metric_b = distill_loss_batch(output, yb, teacher_output, loss_fn=distillation, opt=opt)\n",
    "        running_loss += loss_b\n",
    "        running_metric_b = metric_b\n",
    "    train_loss = running_loss / len_data\n",
    "    train_metric = running_metric / len_data\n",
    "\n",
    "    loss_history['train'].append(train_loss)\n",
    "    metric_history['train'].append(train_metric)\n",
    "\n",
    "    # validation\n",
    "    student.eval()\n",
    "    with torch.no_grad():\n",
    "        val_loss, val_metric = loss_epoch(student, loss_func, val_dl)\n",
    "    loss_history['val'].append(val_loss)\n",
    "    metric_history['val'].append(val_metric)\n",
    "\n",
    "\n",
    "    lr_scheduler.step(val_loss)\n",
    "\n",
    "    print('train loss: %.6f, val loss: %.6f, accuracy: %.2f, time: %.4f min' %(train_loss, val_loss, 100*val_metric, (time.time()-start_time)/60))\n",
    "    print('-'*10)"
   ]
  },
  {
   "cell_type": "code",
   "execution_count": null,
   "metadata": {
    "colab": {
     "base_uri": "https://localhost:8080/",
     "height": 573
    },
    "id": "8STlKe7NQPT8",
    "outputId": "a671649b-0e20-4e18-e748-fe8f58d34c99"
   },
   "outputs": [],
   "source": [
    "num_epochs = params_train['num_epochs']\n",
    "\n",
    "# Plot train-val loss\n",
    "plt.title('Train-Val Loss')\n",
    "plt.plot(range(1, num_epochs+1), loss_hist['train'], label='train')\n",
    "plt.plot(range(1, num_epochs+1), loss_hist['val'], label='val')\n",
    "plt.ylabel('Loss')\n",
    "plt.xlabel('Training Epochs')\n",
    "plt.legend()\n",
    "plt.show()\n",
    "\n",
    "# plot train-val accuracy\n",
    "plt.title('Train-Val Accuracy')\n",
    "plt.plot(range(1, num_epochs+1), metric_hist['train'], label='train')\n",
    "plt.plot(range(1, num_epochs+1), metric_hist['val'], label='val')\n",
    "plt.ylabel('Accuracy')\n",
    "plt.xlabel('Training Epochs')\n",
    "plt.legend()\n",
    "plt.show()"
   ]
  },
  {
   "cell_type": "markdown",
   "metadata": {
    "id": "noOcRJocalGM"
   },
   "source": [
    "# Load Pretrained Model"
   ]
  },
  {
   "cell_type": "code",
   "execution_count": null,
   "metadata": {},
   "outputs": [],
   "source": [
    "test_"
   ]
  }
 ],
 "metadata": {
  "accelerator": "GPU",
  "colab": {
   "authorship_tag": "ABX9TyO0lMZoIrsZsNTnorsmwTgl",
   "include_colab_link": true,
   "machine_shape": "hm",
   "name": "Knowledge_distillation(2014).ipynb",
   "provenance": []
  },
  "kernelspec": {
   "display_name": "Python 3 (ipykernel)",
   "language": "python",
   "name": "python3"
  },
  "language_info": {
   "codemirror_mode": {
    "name": "ipython",
    "version": 3
   },
   "file_extension": ".py",
   "mimetype": "text/x-python",
   "name": "python",
   "nbconvert_exporter": "python",
   "pygments_lexer": "ipython3",
   "version": "3.8.0"
  }
 },
 "nbformat": 4,
 "nbformat_minor": 1
}
